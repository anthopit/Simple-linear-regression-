{
 "cells": [
  {
   "cell_type": "code",
   "execution_count": 1,
   "id": "8015f975-f176-47af-a0ee-916b503a20f3",
   "metadata": {},
   "outputs": [],
   "source": [
    "import numpy as np\n",
    "import pandas as pd\n",
    "import matplotlib.pyplot as plt\n",
    "%matplotlib inline"
   ]
  },
  {
   "cell_type": "code",
   "execution_count": 2,
   "id": "75135fc8-17ca-4c31-a72b-f8bcc3e14ec1",
   "metadata": {},
   "outputs": [],
   "source": [
    "#Use of the ordinary least squares method \n",
    "def computeParam(X,Y):\n",
    "    \n",
    "    beta = np.sum((X-np.mean(X))*(Y-np.mean(Y))) / np.sum((X-np.mean(X))**2)\n",
    "    alpha = np.mean(Y) - beta*np.mean(X)\n",
    "    \n",
    "    result = [alpha,beta]\n",
    "    \n",
    "    return result"
   ]
  },
  {
   "cell_type": "code",
   "execution_count": 3,
   "id": "26c4139f-9b67-408c-914a-af5f406323cb",
   "metadata": {},
   "outputs": [],
   "source": [
    "#Use of the library spicy\n",
    "from scipy import stats\n",
    "\n",
    "def computeParamScipy(df):\n",
    "    X = df.x\n",
    "    Y = df.y\n",
    "\n",
    "    resultTemp = stats.linregress(X, Y)\n",
    "    result = [resultTemp.intercept, resultTemp.slope]\n",
    "    \n",
    "    return result"
   ]
  },
  {
   "cell_type": "code",
   "execution_count": 4,
   "id": "e2303b69-6fa6-4359-b5fb-b4cb85c372c6",
   "metadata": {},
   "outputs": [],
   "source": [
    "#Use of the library scikit-learn\n",
    "from sklearn import linear_model as lm\n",
    "\n",
    "def computeParamSklearn(X,Y):\n",
    "    lr = lm.LinearRegression()\n",
    "    lr.fit(X, Y)\n",
    "\n",
    "    result = [lr.intercept_, lr.coef_]\n",
    "    \n",
    "    return result"
   ]
  },
  {
   "cell_type": "code",
   "execution_count": 5,
   "id": "b812657e-814f-409f-952a-27baa2adbaff",
   "metadata": {},
   "outputs": [],
   "source": [
    "df = pd.read_csv('diabetes.csv', names=['x', 'y']) #add a header to the dataFrame by naming culumns 'x' and 'y'\n",
    "\n",
    "x_array = df[['x']].to_numpy()\n",
    "y_array = df[['y']].to_numpy()\n",
    "\n",
    "\n",
    "result1 = computeParam(x_array, y_array)\n",
    "result2 = computeParamScipy(df)\n",
    "result3 = computeParamSklearn(x_array, y_array)"
   ]
  },
  {
   "cell_type": "code",
   "execution_count": 6,
   "id": "d676f1bd-6438-438e-a493-cc07c8700dfd",
   "metadata": {},
   "outputs": [
    {
     "data": {
      "image/png": "[encoded data removed]",
      "text/plain": [
       "<Figure size 432x288 with 1 Axes>"
      ]
     },
     "metadata": {
      "needs_background": "light"
     },
     "output_type": "display_data"
    }
   ],
   "source": [
    "plt.scatter(x_array, y_array,c='black')\n",
    "plt.plot(x_array, result1[0]+result1[1]*x_array)\n",
    "plt.savefig(\"oui.png\")"
   ]
  },
  {
   "cell_type": "code",
   "execution_count": 7,
   "id": "b5728b44-db90-44fb-8932-ce735f2835f1",
   "metadata": {},
   "outputs": [
    {
     "name": "stdout",
     "output_type": "stream",
     "text": [
      "Ordinary least squares method :  [142.32732717717232, 831.7673735055242]\n",
      "Spicy library :  [142.32732717717232, 831.7673735055243]\n",
      "Sklearn library :  [array([142.32732718]), array([[831.76737351]])]\n"
     ]
    }
   ],
   "source": [
    "#Compar \n",
    "print(\"Ordinary least squares method : \", result1)\n",
    "print(\"Spicy library : \", result2)\n",
    "print(\"Sklearn library : \", result3)\n"
   ]
  },
  {
   "cell_type": "code",
   "execution_count": null,
   "id": "169d29d9-e9b9-425d-918c-4a21482ac987",
   "metadata": {},
   "outputs": [],
   "source": []
  },
  {
   "cell_type": "code",
   "execution_count": null,
   "id": "cc35163a-1599-4b78-a66c-0d64783719a7",
   "metadata": {},
   "outputs": [],
   "source": []
  }
 ],
 "metadata": {
  "kernelspec": {
   "display_name": "Python 3 (ipykernel)",
   "language": "python",
   "name": "python3"
  },
  "language_info": {
   "codemirror_mode": {
    "name": "ipython",
    "version": 3
   },
   "file_extension": ".py",
   "mimetype": "text/x-python",
   "name": "python",
   "nbconvert_exporter": "python",
   "pygments_lexer": "ipython3",
   "version": "3.10.6"
  }
 },
 "nbformat": 4,
 "nbformat_minor": 5
}
